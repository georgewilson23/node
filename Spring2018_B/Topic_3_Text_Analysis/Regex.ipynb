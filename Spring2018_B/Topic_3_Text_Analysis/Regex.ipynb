{
 "cells": [
  {
   "cell_type": "markdown",
   "metadata": {},
   "source": [
    "# Regular Expressions (regex)"
   ]
  },
  {
   "cell_type": "markdown",
   "metadata": {},
   "source": [
    "## Regular Expression Cheet Sheet\n",
    "\n",
    "### Identifiers:\n",
    "\\d = any number\n",
    "<br>\\D = anything but a number\n",
    "<br>\\s = space\n",
    "<br>\\S = anything but a space\n",
    "<br>\\w = any letter\n",
    "<br>\\W = anything but a letter\n",
    "<br>. = any character, except for a new line\n",
    "<br>\\b = space around whole words\n",
    "<br>\\. = period. must use backslash, because . normally means any character.\n",
    "\n",
    "### Modifiers:\n",
    "{1,3} = for digits, you expect 1-3 counts of digits, or \"places\"\n",
    "<br>+ = match 1 or more\n",
    "<br>? = match 0 or 1 repetitions.\n",
    "<br>* = match 0 or MORE repetitions\n",
    "<br>$ = matches at the end of string\n",
    "<br>^ = matches start of a string\n",
    "<br>| = matches either/or. Example x|y = will match either x or y\n",
    "<br>[] = range, or \"variance\"\n",
    "<br>{x} = expect to see this amount of the preceding code.\n",
    "<br>{x,y} = expect to see this x-y amounts of the precedng code\n",
    "\n",
    "### White Space Characters:\n",
    "\\n = new line\n",
    "<br>\\s = space\n",
    "<br>\\t = tab\n",
    "<br>\\e = escape\n",
    "<br>\\f = form feed\n",
    "<br>\\r = carriage return\n",
    "\n",
    "### Characters to REMEMBER TO ESCAPE IF USED:\n",
    ". + * ? [ ] $ ^ ( ) { } | \\\n",
    "\n",
    "### Brackets:\n",
    "[] = quant[ia]tative = will find either quantitative, or quantatative.\n",
    "<br>[a-z] = return any lowercase letter a-z\n",
    "<br>[1-5a-qA-Z] = return all numbers 1-5, lowercase letters a-q and uppercase A-Z\n"
   ]
  },
  {
   "cell_type": "markdown",
   "metadata": {},
   "source": [
    "# Imports"
   ]
  },
  {
   "cell_type": "code",
   "execution_count": 1,
   "metadata": {
    "collapsed": true
   },
   "outputs": [],
   "source": [
    "import re"
   ]
  },
  {
   "cell_type": "markdown",
   "metadata": {},
   "source": [
    "# Some Useful Functions and Explanations"
   ]
  },
  {
   "cell_type": "markdown",
   "metadata": {},
   "source": [
    "## re.match()\n",
    "This method looks for the regular expression at the beginning of the string only."
   ]
  },
  {
   "cell_type": "code",
   "execution_count": 3,
   "metadata": {},
   "outputs": [
    {
     "name": "stdout",
     "output_type": "stream",
     "text": [
      "<_sre.SRE_Match object; span=(0, 4), match='The '>\n",
      "None\n"
     ]
    }
   ],
   "source": [
    "text = 'The quick brown fox born on 1/23/2013 jumped over the lazy dog born on 10/6/10.'\n",
    "\n",
    "# This match comes back positive because 'The' is at the beginning of the string\n",
    "print(re.match('The ', text))\n",
    "# This match returns \"none\" because 'the' is not at the beginning of the string\n",
    "print(re.match('the ', text))"
   ]
  },
  {
   "cell_type": "markdown",
   "metadata": {},
   "source": [
    "## re.search()\n",
    "This method looks for the regular expression anywhere in the string."
   ]
  },
  {
   "cell_type": "code",
   "execution_count": 4,
   "metadata": {},
   "outputs": [
    {
     "name": "stdout",
     "output_type": "stream",
     "text": [
      "<_sre.SRE_Match object; span=(0, 3), match='The'>\n",
      "<_sre.SRE_Match object; span=(50, 53), match='the'>\n",
      "<_sre.SRE_Match object; span=(25, 27), match='on'>\n"
     ]
    }
   ],
   "source": [
    "text = 'The quick brown fox born on 1/23/2013 jumped over the lazy dog born on 10/6/10.'\n",
    "\n",
    "# all of these return positive \n",
    "print(re.search('The', text))\n",
    "print(re.search('the', text))\n",
    "print(re.search('on', text))"
   ]
  },
  {
   "cell_type": "markdown",
   "metadata": {},
   "source": [
    "Notice how it also returns the positions of the found string. Also notice that \"on\" is in the string twice, but re.search() only returns the position of the first one."
   ]
  },
  {
   "cell_type": "markdown",
   "metadata": {},
   "source": [
    "## re.findall()\n",
    "This function returns a list of all of the matches to the regular expression in the string."
   ]
  },
  {
   "cell_type": "code",
   "execution_count": 5,
   "metadata": {},
   "outputs": [
    {
     "name": "stdout",
     "output_type": "stream",
     "text": [
      "['15', '27', '97', '102']\n",
      "<_sre.SRE_Match object; span=(0, 7), match='Jessica'>\n"
     ]
    }
   ],
   "source": [
    "example_text = 'Jessica is 15 years old, and Daniel is 27 years old. Edward is 97 years old, and his grandfather, Oscar, is 102.'\n",
    "\n",
    "# finding all of the ages:\n",
    "# this expression finds all of the numbers that are 1, 2, or 3 digits long\n",
    "ages = re.findall('\\d{1,3}',example_text)\n",
    "\n",
    "# finding all of the names:\n",
    "'''this expression finds all of the words beginning with a capital letter A-Z, \n",
    "followed by any number of lowercase letters a-z'''\n",
    "names = re.match('[A-Z][a-z]*',example_text)\n",
    "\n",
    "print(ages)\n",
    "print(names)"
   ]
  },
  {
   "cell_type": "markdown",
   "metadata": {
    "collapsed": true
   },
   "source": [
    "# Other Useful Functions\n",
    "\n",
    "re.compile(pattern, flags) -> Compile a regular expression of pattern, with flags\n",
    "\n",
    "re.split(pattern, string) -> Split string by occurrences of patern\n",
    "\n",
    "re.sub(pattern, str2, string) -> Replace leftmost non-overlapping occurrences of pattern in string with str2\n",
    "\n",
    "re.fullmatch(pattern, string) -> Match pattern if whole string matches regular expression\n",
    "\n",
    "re.findall(pattern, string) -> Return all non-overlapping matches of pattern in string, as a list of strings\n",
    "\n",
    "re.finditer(pattern, string) -> Return an iterator yielding match objects over non-overlapping matches of pattern in \n",
    "string\n",
    "\n",
    "re.subn(pattern, str2, string) -> Replace left most occurrences of pattern in string with str2, but return a tuple of \n",
    "(newstring, # subs made)\n",
    "\n",
    "re.purge() -> Clear the regular expression cache\n"
   ]
  },
  {
   "cell_type": "code",
   "execution_count": 10,
   "metadata": {},
   "outputs": [
    {
     "data": {
      "text/plain": [
       "'4.99'"
      ]
     },
     "execution_count": 10,
     "metadata": {},
     "output_type": "execute_result"
    }
   ],
   "source": [
    "#remember the chipotle exercise where we wanted to convert dolllars to numeric\n",
    "dollars = '$4.99 '\n",
    "#there is a dollar sign and a space at the end. Remove it (many ways to accomplish this)\n",
    "dollars = re.sub('\\$','', dollars)\n",
    "dollars = re.sub('\\s','',dollars)\n",
    "dollars"
   ]
  },
  {
   "cell_type": "code",
   "execution_count": 14,
   "metadata": {},
   "outputs": [
    {
     "data": {
      "text/plain": [
       "'4999910.01'"
      ]
     },
     "execution_count": 14,
     "metadata": {},
     "output_type": "execute_result"
    }
   ],
   "source": [
    "#what if the numbers are inconsistently inputed\n",
    "dollars = ' $ 4,999,910.01 '\n",
    "number = re.sub('[^0-9.]', '', dollars)\n",
    "number"
   ]
  },
  {
   "cell_type": "markdown",
   "metadata": {},
   "source": [
    "### A good website with a cheat sheet and some practice exercises\n",
    "https://www.shortcutfoo.com/app/dojos/python-regex/cheatsheet\n",
    "\n",
    "#### Other Sourses\n",
    "https://pythonprogramming.net/regular-expressions-regex-tutorial-python-3/\n",
    "\n",
    "https://github.com/rexdwyer/Splitsville/blob/master/Splitsville.ipynb"
   ]
  }
 ],
 "metadata": {
  "kernelspec": {
   "display_name": "Python 3",
   "language": "python",
   "name": "python3"
  },
  "language_info": {
   "codemirror_mode": {
    "name": "ipython",
    "version": 3
   },
   "file_extension": ".py",
   "mimetype": "text/x-python",
   "name": "python",
   "nbconvert_exporter": "python",
   "pygments_lexer": "ipython3",
   "version": "3.6.1"
  }
 },
 "nbformat": 4,
 "nbformat_minor": 2
}
