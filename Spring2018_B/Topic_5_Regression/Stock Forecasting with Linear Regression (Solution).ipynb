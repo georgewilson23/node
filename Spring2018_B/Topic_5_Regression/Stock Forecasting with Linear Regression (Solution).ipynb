{
 "cells": [
  {
   "cell_type": "markdown",
   "metadata": {},
   "source": [
    "# Forecasting Stock with Linear Regression"
   ]
  },
  {
   "cell_type": "code",
   "execution_count": 1,
   "metadata": {},
   "outputs": [
    {
     "name": "stderr",
     "output_type": "stream",
     "text": [
      "C:\\Users\\Student\\Anaconda3\\lib\\site-packages\\sklearn\\cross_validation.py:44: DeprecationWarning: This module was deprecated in version 0.18 in favor of the model_selection module into which all the refactored classes and functions are moved. Also note that the interface of the new CV iterators are different from that of this module. This module will be removed in 0.20.\n",
      "  \"This module will be removed in 0.20.\", DeprecationWarning)\n"
     ]
    }
   ],
   "source": [
    "import numpy as np\n",
    "import pandas as pd\n",
    "import quandl\n",
    "from sklearn import cross_validation\n",
    "from sklearn.linear_model import LinearRegression"
   ]
  },
  {
   "cell_type": "code",
   "execution_count": 2,
   "metadata": {
    "collapsed": true
   },
   "outputs": [],
   "source": [
    "# Import and make the date column the index\n",
    "#df = pd.read_csv('Google_Stock.csv', index_col = 'Date') # ...If you didn't get quandl to work I provided you with an old google stock csv\n",
    "df = quandl.get(\"WIKI/AMZN\",authtoken='mvkxPwoq-SieQszyBUSg')"
   ]
  },
  {
   "cell_type": "code",
   "execution_count": 3,
   "metadata": {},
   "outputs": [
    {
     "data": {
      "text/html": [
       "<div>\n",
       "<style>\n",
       "    .dataframe thead tr:only-child th {\n",
       "        text-align: right;\n",
       "    }\n",
       "\n",
       "    .dataframe thead th {\n",
       "        text-align: left;\n",
       "    }\n",
       "\n",
       "    .dataframe tbody tr th {\n",
       "        vertical-align: top;\n",
       "    }\n",
       "</style>\n",
       "<table border=\"1\" class=\"dataframe\">\n",
       "  <thead>\n",
       "    <tr style=\"text-align: right;\">\n",
       "      <th></th>\n",
       "      <th>Open</th>\n",
       "      <th>High</th>\n",
       "      <th>Low</th>\n",
       "      <th>Close</th>\n",
       "      <th>Volume</th>\n",
       "      <th>Ex-Dividend</th>\n",
       "      <th>Split Ratio</th>\n",
       "      <th>Adj. Open</th>\n",
       "      <th>Adj. High</th>\n",
       "      <th>Adj. Low</th>\n",
       "      <th>Adj. Close</th>\n",
       "      <th>Adj. Volume</th>\n",
       "    </tr>\n",
       "    <tr>\n",
       "      <th>Date</th>\n",
       "      <th></th>\n",
       "      <th></th>\n",
       "      <th></th>\n",
       "      <th></th>\n",
       "      <th></th>\n",
       "      <th></th>\n",
       "      <th></th>\n",
       "      <th></th>\n",
       "      <th></th>\n",
       "      <th></th>\n",
       "      <th></th>\n",
       "      <th></th>\n",
       "    </tr>\n",
       "  </thead>\n",
       "  <tbody>\n",
       "    <tr>\n",
       "      <th>1997-05-16</th>\n",
       "      <td>22.38</td>\n",
       "      <td>23.75</td>\n",
       "      <td>20.50</td>\n",
       "      <td>20.75</td>\n",
       "      <td>1225000.0</td>\n",
       "      <td>0.0</td>\n",
       "      <td>1.0</td>\n",
       "      <td>1.865000</td>\n",
       "      <td>1.979167</td>\n",
       "      <td>1.708333</td>\n",
       "      <td>1.729167</td>\n",
       "      <td>14700000.0</td>\n",
       "    </tr>\n",
       "    <tr>\n",
       "      <th>1997-05-19</th>\n",
       "      <td>20.50</td>\n",
       "      <td>21.25</td>\n",
       "      <td>19.50</td>\n",
       "      <td>20.50</td>\n",
       "      <td>508900.0</td>\n",
       "      <td>0.0</td>\n",
       "      <td>1.0</td>\n",
       "      <td>1.708333</td>\n",
       "      <td>1.770833</td>\n",
       "      <td>1.625000</td>\n",
       "      <td>1.708333</td>\n",
       "      <td>6106800.0</td>\n",
       "    </tr>\n",
       "    <tr>\n",
       "      <th>1997-05-20</th>\n",
       "      <td>20.75</td>\n",
       "      <td>21.00</td>\n",
       "      <td>19.63</td>\n",
       "      <td>19.63</td>\n",
       "      <td>455600.0</td>\n",
       "      <td>0.0</td>\n",
       "      <td>1.0</td>\n",
       "      <td>1.729167</td>\n",
       "      <td>1.750000</td>\n",
       "      <td>1.635833</td>\n",
       "      <td>1.635833</td>\n",
       "      <td>5467200.0</td>\n",
       "    </tr>\n",
       "    <tr>\n",
       "      <th>1997-05-21</th>\n",
       "      <td>19.25</td>\n",
       "      <td>19.75</td>\n",
       "      <td>16.50</td>\n",
       "      <td>17.13</td>\n",
       "      <td>1571100.0</td>\n",
       "      <td>0.0</td>\n",
       "      <td>1.0</td>\n",
       "      <td>1.604167</td>\n",
       "      <td>1.645833</td>\n",
       "      <td>1.375000</td>\n",
       "      <td>1.427500</td>\n",
       "      <td>18853200.0</td>\n",
       "    </tr>\n",
       "    <tr>\n",
       "      <th>1997-05-22</th>\n",
       "      <td>17.25</td>\n",
       "      <td>17.38</td>\n",
       "      <td>15.75</td>\n",
       "      <td>16.75</td>\n",
       "      <td>981400.0</td>\n",
       "      <td>0.0</td>\n",
       "      <td>1.0</td>\n",
       "      <td>1.437500</td>\n",
       "      <td>1.448333</td>\n",
       "      <td>1.312500</td>\n",
       "      <td>1.395833</td>\n",
       "      <td>11776800.0</td>\n",
       "    </tr>\n",
       "  </tbody>\n",
       "</table>\n",
       "</div>"
      ],
      "text/plain": [
       "             Open   High    Low  Close     Volume  Ex-Dividend  Split Ratio  \\\n",
       "Date                                                                          \n",
       "1997-05-16  22.38  23.75  20.50  20.75  1225000.0          0.0          1.0   \n",
       "1997-05-19  20.50  21.25  19.50  20.50   508900.0          0.0          1.0   \n",
       "1997-05-20  20.75  21.00  19.63  19.63   455600.0          0.0          1.0   \n",
       "1997-05-21  19.25  19.75  16.50  17.13  1571100.0          0.0          1.0   \n",
       "1997-05-22  17.25  17.38  15.75  16.75   981400.0          0.0          1.0   \n",
       "\n",
       "            Adj. Open  Adj. High  Adj. Low  Adj. Close  Adj. Volume  \n",
       "Date                                                                 \n",
       "1997-05-16   1.865000   1.979167  1.708333    1.729167   14700000.0  \n",
       "1997-05-19   1.708333   1.770833  1.625000    1.708333    6106800.0  \n",
       "1997-05-20   1.729167   1.750000  1.635833    1.635833    5467200.0  \n",
       "1997-05-21   1.604167   1.645833  1.375000    1.427500   18853200.0  \n",
       "1997-05-22   1.437500   1.448333  1.312500    1.395833   11776800.0  "
      ]
     },
     "execution_count": 3,
     "metadata": {},
     "output_type": "execute_result"
    }
   ],
   "source": [
    "# Create a datetime index if it isn't already\n",
    "#df.index = pd.to_datetime(df.index)\n",
    "df.head()"
   ]
  },
  {
   "cell_type": "markdown",
   "metadata": {},
   "source": [
    "Let's create a 'Label' column which will contain the values which we are trying to predict. We will use the **.shift()** method to shift the values in the 'Adj. Close' column the number of spaces specified in the 'forecast_out' variable.\n",
    "\n",
    "The image below showa an example of how the **.shift()** method works:\n",
    "\n",
    "![](shift_example.png)"
   ]
  },
  {
   "cell_type": "markdown",
   "metadata": {},
   "source": [
    "Lots of data, we'll focus on just the adjusted close to make the forecast since linear regression only uses one predictor variable. "
   ]
  },
  {
   "cell_type": "code",
   "execution_count": 4,
   "metadata": {},
   "outputs": [],
   "source": [
    "# predicting 65 days into the future (~1 quarter)\n",
    "forecast_out = 65\n",
    "\n",
    "# Shift 'forecast' up the amout of forecast_out in order to predict that many days into the future\n",
    "##i.e. in row with day X, df[future] will be the adjusted close of the forecast_out days into the future that we want to predict\n",
    "df['Future'] = df['Adj. Close'].shift(-forecast_out)\n",
    "\n",
    "#df.head()"
   ]
  },
  {
   "cell_type": "markdown",
   "metadata": {},
   "source": [
    "Next we will remove the rows where the the 'Future' column was made NaN by the .shift() method and save them to forecast with later."
   ]
  },
  {
   "cell_type": "code",
   "execution_count": 5,
   "metadata": {
    "collapsed": true
   },
   "outputs": [],
   "source": [
    "#Save original data frame, without label\n",
    "X = df.drop(['Future'], 1) \n",
    "\n",
    "# Save the most recent 'forecast_out' days to forecast with later\n",
    "X_forecast = X[-forecast_out:]\n",
    "\n",
    "# Remove the most recent 'forecast_out' days where we don't have labels\n",
    "X = X[:-forecast_out]\n",
    "\n",
    "# labels y which we know the value of the adjusted close\n",
    "y = df['Future'][:-forecast_out]"
   ]
  },
  {
   "cell_type": "markdown",
   "metadata": {},
   "source": [
    "Here we will partition up the training and testing sets as well as fit our model."
   ]
  },
  {
   "cell_type": "code",
   "execution_count": 6,
   "metadata": {
    "collapsed": true
   },
   "outputs": [],
   "source": [
    "# partitioning up the training/testing data\n",
    "X_train, X_test, y_train, y_test = cross_validation.train_test_split(X, y, test_size = 0.2)"
   ]
  },
  {
   "cell_type": "markdown",
   "metadata": {},
   "source": [
    "As you'll see above, we split the data into training and testing. This is something that you will do a lot with in Machine Learning that is likely different from the typical regression you have learned before. Basically, we randomly split that data up so that only some data is used to build the regression line. Why?\n",
    "* We can evaluate the performance of a model on data it has not seen before"
   ]
  },
  {
   "cell_type": "code",
   "execution_count": 7,
   "metadata": {},
   "outputs": [
    {
     "data": {
      "text/plain": [
       "0.97549466470795521"
      ]
     },
     "execution_count": 7,
     "metadata": {},
     "output_type": "execute_result"
    }
   ],
   "source": [
    "# regressor\n",
    "regr = LinearRegression()\n",
    "\n",
    "# Train the regressor\n",
    "regr.fit(X_train, y_train) #least squares\n",
    "\n",
    "# Calculate the accuracy of the model (squared error in this case)\n",
    "accuracy = regr.score(X_test, y_test)\n",
    "\n",
    "accuracy"
   ]
  },
  {
   "cell_type": "markdown",
   "metadata": {},
   "source": [
    "### Make a plot of the model's forecast"
   ]
  },
  {
   "cell_type": "code",
   "execution_count": 28,
   "metadata": {},
   "outputs": [
    {
     "data": {
      "image/png": "[encoded data removed]",
      "text/plain": [
       "<matplotlib.figure.Figure at 0x1fcda266550>"
      ]
     },
     "metadata": {},
     "output_type": "display_data"
    }
   ],
   "source": [
    "from pandas.tseries.offsets import BDay # This will allow us to get the next business day\n",
    "import matplotlib.pyplot as plt\n",
    "\n",
    "# Predict on X_forecast to make the forecasted predictions\n",
    "forecast_set = regr.predict(X_forecast)\n",
    "\n",
    "# The first buisness day after the last day in the dataset\n",
    "first_forecast_day = df.index[-1] + BDay()\n",
    "\n",
    "# Fill in the rest of the days for the forecast index\n",
    "forecast_index = [first_forecast_day]\n",
    "for i in range(1, forecast_out):\n",
    "    forecast_index.append(forecast_index[i-1]+BDay())\n",
    "\n",
    "# Combine the forecast index with the forecast values\n",
    "forecast = pd.Series(forecast_set, index = forecast_index)\n",
    "\n",
    "# plot\n",
    "df['Adj. Close'].plot()\n",
    "forecast.plot()\n",
    "plt.legend(['Adj. Close', 'Forecast'])\n",
    "plt.xlabel('Date')\n",
    "plt.ylabel('Price')\n",
    "plt.show()"
   ]
  },
  {
   "cell_type": "markdown",
   "metadata": {
    "collapsed": true
   },
   "source": [
    "Should we take this regression and start investing?"
   ]
  }
 ],
 "metadata": {
  "kernelspec": {
   "display_name": "Python 3",
   "language": "python",
   "name": "python3"
  },
  "language_info": {
   "codemirror_mode": {
    "name": "ipython",
    "version": 3
   },
   "file_extension": ".py",
   "mimetype": "text/x-python",
   "name": "python",
   "nbconvert_exporter": "python",
   "pygments_lexer": "ipython3",
   "version": "3.6.1"
  }
 },
 "nbformat": 4,
 "nbformat_minor": 2
}
