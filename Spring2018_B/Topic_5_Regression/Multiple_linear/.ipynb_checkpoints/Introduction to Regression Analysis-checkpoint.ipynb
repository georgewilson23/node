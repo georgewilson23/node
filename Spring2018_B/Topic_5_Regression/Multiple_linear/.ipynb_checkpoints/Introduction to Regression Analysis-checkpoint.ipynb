{
 "cells": [
  {
   "cell_type": "markdown",
   "metadata": {},
   "source": [
    "**Regression** is a statistical technique that tries to measure the strength of a relationship between a single **dependent variable (response)** and one or more **independent variables (predictors)**. Regression is an example of using supervised learning for continuous data. \n",
    "\n",
    "Regression is a popular technique in data science for prediction and forecasting because:\n",
    "1. Speedy analysis (relative to other ML methods)\n",
    "2. Highly explainable\n",
    "3. Easy to run \n",
    "4. Generally robust prediction technique, especially with multiple predictors\n",
    "\n",
    "## Simple Linear Regression\n",
    "In simple linear regression, there are two variables: an \"x\", which is the single predictor variable, and a \"y\" , which is the single response variable. With simple linear regression, we are looking for some kind of \"trend\" between the two variables. \n",
    "* Remember, you need two ** continuous variables ** to perform basic linear regression. "
   ]
  },
  {
   "cell_type": "code",
   "execution_count": 1,
   "metadata": {
    "collapsed": true
   },
   "outputs": [],
   "source": [
    "# imports\n",
    "import pandas as pd\n",
    "import matplotlib.pyplot as plt"
   ]
  },
  {
   "cell_type": "code",
   "execution_count": 2,
   "metadata": {
    "collapsed": true
   },
   "outputs": [],
   "source": [
    "# this allows plots to appear directly in the notebook\n",
    "%matplotlib inline"
   ]
  },
  {
   "cell_type": "code",
   "execution_count": 3,
   "metadata": {},
   "outputs": [
    {
     "data": {
      "text/html": [
       "<div>\n",
       "<style>\n",
       "    .dataframe thead tr:only-child th {\n",
       "        text-align: right;\n",
       "    }\n",
       "\n",
       "    .dataframe thead th {\n",
       "        text-align: left;\n",
       "    }\n",
       "\n",
       "    .dataframe tbody tr th {\n",
       "        vertical-align: top;\n",
       "    }\n",
       "</style>\n",
       "<table border=\"1\" class=\"dataframe\">\n",
       "  <thead>\n",
       "    <tr style=\"text-align: right;\">\n",
       "      <th></th>\n",
       "      <th>TV</th>\n",
       "      <th>radio</th>\n",
       "      <th>newspaper</th>\n",
       "      <th>sales</th>\n",
       "    </tr>\n",
       "  </thead>\n",
       "  <tbody>\n",
       "    <tr>\n",
       "      <th>1</th>\n",
       "      <td>230.1</td>\n",
       "      <td>37.8</td>\n",
       "      <td>69.2</td>\n",
       "      <td>22.1</td>\n",
       "    </tr>\n",
       "    <tr>\n",
       "      <th>2</th>\n",
       "      <td>44.5</td>\n",
       "      <td>39.3</td>\n",
       "      <td>45.1</td>\n",
       "      <td>10.4</td>\n",
       "    </tr>\n",
       "    <tr>\n",
       "      <th>3</th>\n",
       "      <td>17.2</td>\n",
       "      <td>45.9</td>\n",
       "      <td>69.3</td>\n",
       "      <td>9.3</td>\n",
       "    </tr>\n",
       "    <tr>\n",
       "      <th>4</th>\n",
       "      <td>151.5</td>\n",
       "      <td>41.3</td>\n",
       "      <td>58.5</td>\n",
       "      <td>18.5</td>\n",
       "    </tr>\n",
       "    <tr>\n",
       "      <th>5</th>\n",
       "      <td>180.8</td>\n",
       "      <td>10.8</td>\n",
       "      <td>58.4</td>\n",
       "      <td>12.9</td>\n",
       "    </tr>\n",
       "  </tbody>\n",
       "</table>\n",
       "</div>"
      ],
      "text/plain": [
       "      TV  radio  newspaper  sales\n",
       "1  230.1   37.8       69.2   22.1\n",
       "2   44.5   39.3       45.1   10.4\n",
       "3   17.2   45.9       69.3    9.3\n",
       "4  151.5   41.3       58.5   18.5\n",
       "5  180.8   10.8       58.4   12.9"
      ]
     },
     "execution_count": 3,
     "metadata": {},
     "output_type": "execute_result"
    }
   ],
   "source": [
    "# read data into a DataFrame\n",
    "data = pd.read_csv('http://www-bcf.usc.edu/~gareth/ISL/Advertising.csv', index_col=0)\n",
    "data.head()"
   ]
  },
  {
   "cell_type": "code",
   "execution_count": 4,
   "metadata": {},
   "outputs": [
    {
     "data": {
      "text/plain": [
       "(200, 4)"
      ]
     },
     "execution_count": 4,
     "metadata": {},
     "output_type": "execute_result"
    }
   ],
   "source": [
    "# print the shape of the DataFrame\n",
    "data.shape"
   ]
  },
  {
   "cell_type": "code",
   "execution_count": 6,
   "metadata": {},
   "outputs": [
    {
     "data": {
      "text/plain": [
       "<matplotlib.axes._subplots.AxesSubplot at 0x150bf7fae80>"
      ]
     },
     "execution_count": 6,
     "metadata": {},
     "output_type": "execute_result"
    },
    {
     "data": {
      "image/png": "[encoded data removed]",
      "text/plain": [
       "<matplotlib.figure.Figure at 0x150bf7915f8>"
      ]
     },
     "metadata": {},
     "output_type": "display_data"
    }
   ],
   "source": [
    "# visualize the relationship between the features and the response using scatterplots\n",
    "fig, axs = plt.subplots(1, 3, sharey=True)\n",
    "data.plot(kind='scatter', x='TV', y='sales', ax=axs[0], figsize=(16, 8))\n",
    "data.plot(kind='scatter', x='radio', y='sales', ax=axs[1])\n",
    "data.plot(kind='scatter', x='newspaper', y='sales', ax=axs[2])"
   ]
  },
  {
   "cell_type": "code",
   "execution_count": 18,
   "metadata": {},
   "outputs": [],
   "source": [
    "from sklearn import cross_validation\n",
    "from sklearn.linear_model import LinearRegression\n",
    "from sklearn.model_selection import train_test_split\n",
    "from sklearn.metrics import r2_score"
   ]
  },
  {
   "cell_type": "code",
   "execution_count": 19,
   "metadata": {},
   "outputs": [
    {
     "name": "stdout",
     "output_type": "stream",
     "text": [
      "R squared value is: 0.63\n"
     ]
    },
    {
     "data": {
      "image/png": "[encoded data removed]",
      "text/plain": [
       "<matplotlib.figure.Figure at 0x150bd5d9eb8>"
      ]
     },
     "metadata": {},
     "output_type": "display_data"
    }
   ],
   "source": [
    "# Randomize and split our data\n",
    "train, test = train_test_split(data, test_size = 0.2)\n",
    "\n",
    "train_x = train[['TV']]\n",
    "train_y = train[['sales']]\n",
    "\n",
    "test_x = test[['TV']]\n",
    "test_y = test[['sales']]\n",
    "\n",
    "# Create linear regression object\n",
    "regr = LinearRegression()\n",
    "\n",
    "# Train the model ('fit' synonomous to 'train')\n",
    "regr.fit(train_x, train_y)\n",
    "\n",
    "plt.scatter(train_x, train_y,  color='black')\n",
    "plt.scatter(test_x, test_y,  color='red')\n",
    "\n",
    "# predicted best-fit line in blue\n",
    "plt.plot(test_x, regr.predict(test_x), color='blue',\n",
    "         linewidth=3)\n",
    "\n",
    "plt.xlabel(\"TV\", fontsize=15)\n",
    "plt.ylabel(\"sales\", fontsize=15)\n",
    "\n",
    "print('R squared value is: %.2f' % r2_score(test_y, regr.predict(test_x)))"
   ]
  },
  {
   "cell_type": "markdown",
   "metadata": {},
   "source": [
    "Coefficient of Determination (r<sup>2</sup>) : \n",
    "** r<sup>2</sup> = 1 - (SSE / SSTO) **\n",
    "* The range of r<sup>2</sup> is between 0 and 1\n",
    "* If r<sup>2</sup> is 1, then variation in y is *totally* accounted by the x-variable\n",
    "    * All data lies perfectly on the best-fit line\n",
    "* If r<sup>2</sup> is 0, then variation in y is *not at all* accounted by the x-variable\n",
    "    * The regression line is horizontal \n",
    "* **Interpretation** \n",
    "    * \"r<sup>2</sup> ×100 percent of the variation in y is 'explained by' the variation in predictor x.\"\n",
    "        * Remember ***correlation does not imply causation***\n",
    "    * \"r<sup>2</sup> ×100 percent of the variation in y is reduced by taking into account predictor x\"\n",
    "\n",
    "Correlation Coefficient (r):\n",
    "* Measure of the linear correlation between two variables, x and y\n",
    "* r = +/- Sqrt(r<sup>2</sup>)\n",
    "    * Sign depends on the slope of regression line\n",
    "        * If the slope is positive, then r is positive.\n",
    "        * If the slope is negative, then r is negative.\n",
    "    * Range of r is between -1 and 1"
   ]
  },
  {
   "cell_type": "markdown",
   "metadata": {},
   "source": [
    "### Key Assumptions for Linear Regression\n",
    "1. Data must be linearly related. \n",
    "    * The graph should look linear. No curves.\n",
    "    * Mean of e<sub>i</sub> is 0\n",
    "2. The errors are independent\n",
    "3. Errors are normally distributed\n",
    "4. Errors have constant variance "
   ]
  },
  {
   "cell_type": "code",
   "execution_count": null,
   "metadata": {
    "collapsed": true
   },
   "outputs": [],
   "source": []
  }
 ],
 "metadata": {
  "kernelspec": {
   "display_name": "Python 3",
   "language": "python",
   "name": "python3"
  },
  "language_info": {
   "codemirror_mode": {
    "name": "ipython",
    "version": 3
   },
   "file_extension": ".py",
   "mimetype": "text/x-python",
   "name": "python",
   "nbconvert_exporter": "python",
   "pygments_lexer": "ipython3",
   "version": "3.6.1"
  }
 },
 "nbformat": 4,
 "nbformat_minor": 2
}
