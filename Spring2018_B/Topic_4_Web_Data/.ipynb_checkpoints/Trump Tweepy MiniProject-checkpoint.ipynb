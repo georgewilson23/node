{
 "cells": [
  {
   "cell_type": "markdown",
   "metadata": {},
   "source": [
    "DTrump Sentiment Analysis, Viz, etc. using tweepy from dev.to tutorial"
   ]
  },
  {
   "cell_type": "code",
   "execution_count": 13,
   "metadata": {
    "collapsed": true
   },
   "outputs": [],
   "source": [
    "import numpy as np"
   ]
  },
  {
   "cell_type": "code",
   "execution_count": 1,
   "metadata": {
    "collapsed": true
   },
   "outputs": [],
   "source": [
    "import pandas as pd\n",
    "import matplotlib.pyplot as plt\n",
    "import tweepy"
   ]
  },
  {
   "cell_type": "code",
   "execution_count": null,
   "metadata": {
    "collapsed": true
   },
   "outputs": [],
   "source": [
    "api_key = ##use your own tokens or I'll give you mine during class\n",
    "api_secret = ##\n",
    "access_token = ##\n",
    "access_secret = ##"
   ]
  },
  {
   "cell_type": "code",
   "execution_count": 5,
   "metadata": {
    "collapsed": true
   },
   "outputs": [],
   "source": [
    "api_key = 'PCyzdA4pPTd0VB74ONddmjgqj'\n",
    "api_secret = 'niikYgnwjdjs4CUpMIKmzAYxUExbTAHXgtis8ilP7Uor1nVbcV'\n",
    "access_token = '873188775165382656-pg1jp5e0wM3xaBVHs3fqnVZ3Pj6GZ16'\n",
    "access_secret = '58lfsDbyyZ6WvmvDvu4Pf5xLSeuFd7b06CpbWGfSClLby'"
   ]
  },
  {
   "cell_type": "code",
   "execution_count": 6,
   "metadata": {
    "collapsed": true
   },
   "outputs": [],
   "source": [
    "def twitter_setup():\n",
    "    \"\"\"\n",
    "    Utility function to setup the Twitter's API\n",
    "    with our access keys provided.\n",
    "    \"\"\"\n",
    "    # Authentication and access using keys:\n",
    "    auth = tweepy.OAuthHandler(api_key, api_secret)\n",
    "    auth.set_access_token(access_token, access_secret)\n",
    "\n",
    "    # Return API with authentication:\n",
    "    api = tweepy.API(auth)\n",
    "    return api"
   ]
  },
  {
   "cell_type": "code",
   "execution_count": 7,
   "metadata": {},
   "outputs": [
    {
     "name": "stdout",
     "output_type": "stream",
     "text": [
      "Number of tweets extracted: 200.\n",
      "\n",
      "5 recent tweets:\n",
      "\n",
      "Why does the Mueller team have 13 hardened Democrats, some big Crooked Hillary supporters, and Zero Republicans? An… https://t.co/wKNAVhWJcz\n",
      "\n",
      "Spent very little time with Andrew McCabe, but he never took notes when he was with me. I don’t believe he made mem… https://t.co/O4fdG6P0sN\n",
      "\n",
      "Wow, watch Comey lie under oath to Senator G when asked “have you ever been an anonymous source...or known someone… https://t.co/2GxHCPXrJ3\n",
      "\n",
      "The Mueller probe should never have been started in that there was no collusion and there was no crime. It was base… https://t.co/oMCKEA7WmJ\n",
      "\n",
      "The Fake News is beside themselves that McCabe was caught, called out and fired. How many hundreds of thousands of… https://t.co/09lMF1jNHk\n",
      "\n"
     ]
    }
   ],
   "source": [
    "# We create an extractor object:\n",
    "extractor = twitter_setup()\n",
    "\n",
    "# We create a tweet list as follows:\n",
    "tweets = extractor.user_timeline(screen_name=\"realDonaldTrump\", count=200)\n",
    "print(\"Number of tweets extracted: {}.\\n\".format(len(tweets)))\n",
    "\n",
    "# We print the most recent 5 tweets:\n",
    "print(\"5 recent tweets:\\n\")\n",
    "for tweet in tweets[:5]:\n",
    "    print(tweet.text)\n",
    "    print()"
   ]
  },
  {
   "cell_type": "code",
   "execution_count": 11,
   "metadata": {},
   "outputs": [
    {
     "data": {
      "text/html": [
       "<div>\n",
       "<style>\n",
       "    .dataframe thead tr:only-child th {\n",
       "        text-align: right;\n",
       "    }\n",
       "\n",
       "    .dataframe thead th {\n",
       "        text-align: left;\n",
       "    }\n",
       "\n",
       "    .dataframe tbody tr th {\n",
       "        vertical-align: top;\n",
       "    }\n",
       "</style>\n",
       "<table border=\"1\" class=\"dataframe\">\n",
       "  <thead>\n",
       "    <tr style=\"text-align: right;\">\n",
       "      <th></th>\n",
       "      <th>Tweets</th>\n",
       "    </tr>\n",
       "  </thead>\n",
       "  <tbody>\n",
       "    <tr>\n",
       "      <th>0</th>\n",
       "      <td>Why does the Mueller team have 13 hardened Dem...</td>\n",
       "    </tr>\n",
       "    <tr>\n",
       "      <th>1</th>\n",
       "      <td>Spent very little time with Andrew McCabe, but...</td>\n",
       "    </tr>\n",
       "    <tr>\n",
       "      <th>2</th>\n",
       "      <td>Wow, watch Comey lie under oath to Senator G w...</td>\n",
       "    </tr>\n",
       "    <tr>\n",
       "      <th>3</th>\n",
       "      <td>The Mueller probe should never have been start...</td>\n",
       "    </tr>\n",
       "    <tr>\n",
       "      <th>4</th>\n",
       "      <td>The Fake News is beside themselves that McCabe...</td>\n",
       "    </tr>\n",
       "  </tbody>\n",
       "</table>\n",
       "</div>"
      ],
      "text/plain": [
       "                                              Tweets\n",
       "0  Why does the Mueller team have 13 hardened Dem...\n",
       "1  Spent very little time with Andrew McCabe, but...\n",
       "2  Wow, watch Comey lie under oath to Senator G w...\n",
       "3  The Mueller probe should never have been start...\n",
       "4  The Fake News is beside themselves that McCabe..."
      ]
     },
     "execution_count": 11,
     "metadata": {},
     "output_type": "execute_result"
    }
   ],
   "source": [
    "trump_df = pd.DataFrame(data=[tweet.text for tweet in tweets], columns=['Tweets'])\n",
    "trump_df.head()"
   ]
  },
  {
   "cell_type": "code",
   "execution_count": 10,
   "metadata": {},
   "outputs": [
    {
     "name": "stdout",
     "output_type": "stream",
     "text": [
      "['__class__', '__delattr__', '__dict__', '__dir__', '__doc__', '__eq__', '__format__', '__ge__', '__getattribute__', '__getstate__', '__gt__', '__hash__', '__init__', '__init_subclass__', '__le__', '__lt__', '__module__', '__ne__', '__new__', '__reduce__', '__reduce_ex__', '__repr__', '__setattr__', '__sizeof__', '__str__', '__subclasshook__', '__weakref__', '_api', '_json', 'author', 'contributors', 'coordinates', 'created_at', 'destroy', 'entities', 'favorite', 'favorite_count', 'favorited', 'geo', 'id', 'id_str', 'in_reply_to_screen_name', 'in_reply_to_status_id', 'in_reply_to_status_id_str', 'in_reply_to_user_id', 'in_reply_to_user_id_str', 'is_quote_status', 'lang', 'parse', 'parse_list', 'place', 'retweet', 'retweet_count', 'retweeted', 'retweets', 'source', 'source_url', 'text', 'truncated', 'user']\n"
     ]
    }
   ],
   "source": [
    "print(dir(tweets[0])) #shows what methods the tweet object has (lots of metadata)"
   ]
  },
  {
   "cell_type": "code",
   "execution_count": 14,
   "metadata": {},
   "outputs": [],
   "source": [
    "# We add relevant data:\n",
    "trump_df['len']  = np.array([len(tweet.text) for tweet in tweets])\n",
    "trump_df['ID']   = np.array([tweet.id for tweet in tweets])\n",
    "trump_df['Date'] = np.array([tweet.created_at for tweet in tweets])\n",
    "trump_df['Source'] = np.array([tweet.source for tweet in tweets])\n",
    "trump_df['Likes']  = np.array([tweet.favorite_count for tweet in tweets])\n",
    "trump_df['RTs']    = np.array([tweet.retweet_count for tweet in tweets])"
   ]
  },
  {
   "cell_type": "code",
   "execution_count": 16,
   "metadata": {},
   "outputs": [
    {
     "name": "stdout",
     "output_type": "stream",
     "text": [
      "The tweet with more likes is: \n",
      "Lowest rated Oscars in HISTORY. Problem is, we don’t have Stars anymore - except your President (just kidding, of course)!\n",
      "Number of likes: 213624\n",
      "122 characters.\n",
      "\n",
      "The tweet with more retweets is: \n",
      "Lowest rated Oscars in HISTORY. Problem is, we don’t have Stars anymore - except your President (just kidding, of course)!\n",
      "Number of retweets: 59602\n",
      "122 characters.\n",
      "\n"
     ]
    }
   ],
   "source": [
    "# We extract the tweet with more FAVs and more RTs:\n",
    "\n",
    "fav_max = np.max(trump_df['Likes'])\n",
    "rt_max  = np.max(trump_df['RTs'])\n",
    "\n",
    "fav = trump_df[trump_df.Likes == fav_max].index[0]\n",
    "rt  = trump_df[trump_df.RTs == rt_max].index[0]\n",
    "\n",
    "# Max FAVs:\n",
    "print(\"The tweet with most likes is: \\n{}\".format(trump_df['Tweets'][fav]))\n",
    "print(\"Number of likes: {}\".format(fav_max))\n",
    "print(\"{} characters.\\n\".format(trump_df['len'][fav]))\n",
    "\n",
    "# Max RTs:\n",
    "print(\"The tweet with most retweets is: \\n{}\".format(trump_df['Tweets'][rt]))\n",
    "print(\"Number of retweets: {}\".format(rt_max))\n",
    "print(\"{} characters.\\n\".format(trump_df['len'][rt]))"
   ]
  },
  {
   "cell_type": "code",
   "execution_count": null,
   "metadata": {
    "collapsed": true
   },
   "outputs": [],
   "source": [
    "#Viz"
   ]
  },
  {
   "cell_type": "code",
   "execution_count": 17,
   "metadata": {
    "collapsed": true
   },
   "outputs": [],
   "source": [
    "# We create time series for data:\n",
    "\n",
    "tlen = pd.Series(data=trump_df['len'].values, index=trump_df['Date'])\n",
    "tfav = pd.Series(data=trump_df['Likes'].values, index=trump_df['Date'])\n",
    "tret = pd.Series(data=trump_df['RTs'].values, index=trump_df['Date'])\n",
    "\n",
    "# Likes vs retweets visualization:\n",
    "tfav.plot(figsize=(16,4), label=\"Likes\", legend=True)\n",
    "tret.plot(figsize=(16,4), label=\"Retweets\", legend=True);"
   ]
  },
  {
   "cell_type": "code",
   "execution_count": 19,
   "metadata": {},
   "outputs": [
    {
     "data": {
      "image/png": "[encoded data removed]",
      "text/plain": [
       "<matplotlib.figure.Figure at 0x1dfdf9c5400>"
      ]
     },
     "metadata": {},
     "output_type": "display_data"
    }
   ],
   "source": [
    "plt.show()"
   ]
  },
  {
   "cell_type": "code",
   "execution_count": 20,
   "metadata": {},
   "outputs": [
    {
     "name": "stdout",
     "output_type": "stream",
     "text": [
      "Creation of content sources:\n",
      "* Twitter for iPhone\n",
      "* Media Studio\n"
     ]
    }
   ],
   "source": [
    "# We obtain all possible sources:\n",
    "sources = []\n",
    "for source in trump_df['Source']:\n",
    "    if source not in sources:\n",
    "        sources.append(source)\n",
    "\n",
    "# We print sources list:\n",
    "print(\"Creation of content sources:\")\n",
    "for source in sources:\n",
    "    print(\"* {}\".format(source))"
   ]
  },
  {
   "cell_type": "code",
   "execution_count": 23,
   "metadata": {},
   "outputs": [
    {
     "data": {
      "image/png": "[encoded data removed]",
      "text/plain": [
       "<matplotlib.figure.Figure at 0x1dfdfd77630>"
      ]
     },
     "metadata": {},
     "output_type": "display_data"
    }
   ],
   "source": [
    "# We create a numpy vector mapped to labels:\n",
    "percent = np.zeros(len(sources))\n",
    "\n",
    "for source in trump_df['Source']:\n",
    "    for index in range(len(sources)):\n",
    "        if source == sources[index]:\n",
    "            percent[index] += 1\n",
    "            pass\n",
    "\n",
    "percent /= 100\n",
    "\n",
    "# Pie chart:\n",
    "pie_chart = pd.Series(percent, index=sources, name='Sources')\n",
    "pie_chart.plot.pie(fontsize=11, autopct='%.2f', figsize=(6, 6));\n",
    "plt.show()"
   ]
  },
  {
   "cell_type": "markdown",
   "metadata": {},
   "source": [
    "## Textblob Analysis"
   ]
  },
  {
   "cell_type": "code",
   "execution_count": null,
   "metadata": {
    "collapsed": true
   },
   "outputs": [],
   "source": [
    "#!pip install textblob"
   ]
  },
  {
   "cell_type": "code",
   "execution_count": 26,
   "metadata": {},
   "outputs": [],
   "source": [
    "from textblob import TextBlob\n",
    "import re\n",
    "\n",
    "def clean_tweet(tweet):\n",
    "    '''\n",
    "    Utility function to clean the text in a tweet by removing \n",
    "    links and special characters using regex.\n",
    "    '''\n",
    "    return ' '.join(re.sub(\"(@[A-Za-z0-9]+)|([^0-9A-Za-z \\t])|(\\w+:\\/\\/\\S+)\", \" \", tweet).split())\n",
    "\n",
    "def analize_sentiment(tweet):\n",
    "    '''\n",
    "    Utility function to classify the polarity of a tweet\n",
    "    using textblob.\n",
    "    '''\n",
    "    analysis = TextBlob(clean_tweet(tweet))\n",
    "    if analysis.sentiment.polarity > 0:\n",
    "        return 1\n",
    "    elif analysis.sentiment.polarity == 0:\n",
    "        return 0\n",
    "    else:\n",
    "        return -1"
   ]
  },
  {
   "cell_type": "code",
   "execution_count": 28,
   "metadata": {},
   "outputs": [
    {
     "data": {
      "text/html": [
       "<div>\n",
       "<style>\n",
       "    .dataframe thead tr:only-child th {\n",
       "        text-align: right;\n",
       "    }\n",
       "\n",
       "    .dataframe thead th {\n",
       "        text-align: left;\n",
       "    }\n",
       "\n",
       "    .dataframe tbody tr th {\n",
       "        vertical-align: top;\n",
       "    }\n",
       "</style>\n",
       "<table border=\"1\" class=\"dataframe\">\n",
       "  <thead>\n",
       "    <tr style=\"text-align: right;\">\n",
       "      <th></th>\n",
       "      <th>Tweets</th>\n",
       "      <th>len</th>\n",
       "      <th>ID</th>\n",
       "      <th>Date</th>\n",
       "      <th>Source</th>\n",
       "      <th>Likes</th>\n",
       "      <th>RTs</th>\n",
       "      <th>Sentiment</th>\n",
       "    </tr>\n",
       "  </thead>\n",
       "  <tbody>\n",
       "    <tr>\n",
       "      <th>0</th>\n",
       "      <td>Why does the Mueller team have 13 hardened Dem...</td>\n",
       "      <td>140</td>\n",
       "      <td>975350027169206273</td>\n",
       "      <td>2018-03-18 12:35:42</td>\n",
       "      <td>Twitter for iPhone</td>\n",
       "      <td>48236</td>\n",
       "      <td>13650</td>\n",
       "      <td>0</td>\n",
       "    </tr>\n",
       "    <tr>\n",
       "      <th>1</th>\n",
       "      <td>Spent very little time with Andrew McCabe, but...</td>\n",
       "      <td>140</td>\n",
       "      <td>975346628113596417</td>\n",
       "      <td>2018-03-18 12:22:11</td>\n",
       "      <td>Twitter for iPhone</td>\n",
       "      <td>54344</td>\n",
       "      <td>14499</td>\n",
       "      <td>-1</td>\n",
       "    </tr>\n",
       "    <tr>\n",
       "      <th>2</th>\n",
       "      <td>Wow, watch Comey lie under oath to Senator G w...</td>\n",
       "      <td>139</td>\n",
       "      <td>975341676297445377</td>\n",
       "      <td>2018-03-18 12:02:31</td>\n",
       "      <td>Twitter for iPhone</td>\n",
       "      <td>43397</td>\n",
       "      <td>12657</td>\n",
       "      <td>1</td>\n",
       "    </tr>\n",
       "    <tr>\n",
       "      <th>3</th>\n",
       "      <td>The Mueller probe should never have been start...</td>\n",
       "      <td>140</td>\n",
       "      <td>975163071361683456</td>\n",
       "      <td>2018-03-18 00:12:48</td>\n",
       "      <td>Twitter for iPhone</td>\n",
       "      <td>74815</td>\n",
       "      <td>22249</td>\n",
       "      <td>-1</td>\n",
       "    </tr>\n",
       "    <tr>\n",
       "      <th>4</th>\n",
       "      <td>The Fake News is beside themselves that McCabe...</td>\n",
       "      <td>139</td>\n",
       "      <td>975062797162811394</td>\n",
       "      <td>2018-03-17 17:34:21</td>\n",
       "      <td>Twitter for iPhone</td>\n",
       "      <td>117372</td>\n",
       "      <td>33636</td>\n",
       "      <td>0</td>\n",
       "    </tr>\n",
       "    <tr>\n",
       "      <th>5</th>\n",
       "      <td>As the House Intelligence Committee has conclu...</td>\n",
       "      <td>140</td>\n",
       "      <td>975057131136274432</td>\n",
       "      <td>2018-03-17 17:11:50</td>\n",
       "      <td>Twitter for iPhone</td>\n",
       "      <td>95167</td>\n",
       "      <td>27079</td>\n",
       "      <td>0</td>\n",
       "    </tr>\n",
       "    <tr>\n",
       "      <th>6</th>\n",
       "      <td>Happy #StPatricksDay https://t.co/4vVsW2smhB</td>\n",
       "      <td>44</td>\n",
       "      <td>975024181061541888</td>\n",
       "      <td>2018-03-17 15:00:54</td>\n",
       "      <td>Twitter for iPhone</td>\n",
       "      <td>81856</td>\n",
       "      <td>16101</td>\n",
       "      <td>1</td>\n",
       "    </tr>\n",
       "    <tr>\n",
       "      <th>7</th>\n",
       "      <td>Andrew McCabe FIRED, a great day for the hard ...</td>\n",
       "      <td>140</td>\n",
       "      <td>974859881827258369</td>\n",
       "      <td>2018-03-17 04:08:02</td>\n",
       "      <td>Twitter for iPhone</td>\n",
       "      <td>150834</td>\n",
       "      <td>45572</td>\n",
       "      <td>1</td>\n",
       "    </tr>\n",
       "    <tr>\n",
       "      <th>8</th>\n",
       "      <td>“U.S. Consumer Confidence Hits 14-Year High” h...</td>\n",
       "      <td>68</td>\n",
       "      <td>974702363763232768</td>\n",
       "      <td>2018-03-16 17:42:07</td>\n",
       "      <td>Twitter for iPhone</td>\n",
       "      <td>58602</td>\n",
       "      <td>14297</td>\n",
       "      <td>1</td>\n",
       "    </tr>\n",
       "    <tr>\n",
       "      <th>9</th>\n",
       "      <td>It would be great for the Republican Party of ...</td>\n",
       "      <td>140</td>\n",
       "      <td>974683485322596352</td>\n",
       "      <td>2018-03-16 16:27:06</td>\n",
       "      <td>Twitter for iPhone</td>\n",
       "      <td>65576</td>\n",
       "      <td>14419</td>\n",
       "      <td>1</td>\n",
       "    </tr>\n",
       "  </tbody>\n",
       "</table>\n",
       "</div>"
      ],
      "text/plain": [
       "                                              Tweets  len                  ID  \\\n",
       "0  Why does the Mueller team have 13 hardened Dem...  140  975350027169206273   \n",
       "1  Spent very little time with Andrew McCabe, but...  140  975346628113596417   \n",
       "2  Wow, watch Comey lie under oath to Senator G w...  139  975341676297445377   \n",
       "3  The Mueller probe should never have been start...  140  975163071361683456   \n",
       "4  The Fake News is beside themselves that McCabe...  139  975062797162811394   \n",
       "5  As the House Intelligence Committee has conclu...  140  975057131136274432   \n",
       "6       Happy #StPatricksDay https://t.co/4vVsW2smhB   44  975024181061541888   \n",
       "7  Andrew McCabe FIRED, a great day for the hard ...  140  974859881827258369   \n",
       "8  “U.S. Consumer Confidence Hits 14-Year High” h...   68  974702363763232768   \n",
       "9  It would be great for the Republican Party of ...  140  974683485322596352   \n",
       "\n",
       "                 Date              Source   Likes    RTs  Sentiment  \n",
       "0 2018-03-18 12:35:42  Twitter for iPhone   48236  13650          0  \n",
       "1 2018-03-18 12:22:11  Twitter for iPhone   54344  14499         -1  \n",
       "2 2018-03-18 12:02:31  Twitter for iPhone   43397  12657          1  \n",
       "3 2018-03-18 00:12:48  Twitter for iPhone   74815  22249         -1  \n",
       "4 2018-03-17 17:34:21  Twitter for iPhone  117372  33636          0  \n",
       "5 2018-03-17 17:11:50  Twitter for iPhone   95167  27079          0  \n",
       "6 2018-03-17 15:00:54  Twitter for iPhone   81856  16101          1  \n",
       "7 2018-03-17 04:08:02  Twitter for iPhone  150834  45572          1  \n",
       "8 2018-03-16 17:42:07  Twitter for iPhone   58602  14297          1  \n",
       "9 2018-03-16 16:27:06  Twitter for iPhone   65576  14419          1  "
      ]
     },
     "execution_count": 28,
     "metadata": {},
     "output_type": "execute_result"
    }
   ],
   "source": [
    "# We create a column with the result of the analysis:\n",
    "trump_df['Sentiment'] = np.array([ analize_sentiment(tweet) for tweet in trump_df['Tweets'] ])\n",
    "\n",
    "# We display the updated dataframe with the new column:\n",
    "trump_df.head(10)"
   ]
  },
  {
   "cell_type": "code",
   "execution_count": 30,
   "metadata": {},
   "outputs": [],
   "source": [
    "pos_tweets = [ tweet for index, tweet in enumerate(trump_df['Tweets']) if trump_df['Sentiment'][index] > 0]\n",
    "neu_tweets = [ tweet for index, tweet in enumerate(trump_df['Tweets']) if trump_df['Sentiment'][index] == 0]\n",
    "neg_tweets = [ tweet for index, tweet in enumerate(trump_df['Tweets']) if trump_df['Sentiment'][index] < 0]"
   ]
  },
  {
   "cell_type": "code",
   "execution_count": 31,
   "metadata": {},
   "outputs": [
    {
     "name": "stdout",
     "output_type": "stream",
     "text": [
      "Percentage of positive tweets: 56.0%\n",
      "Percentage of neutral tweets: 29.0%\n",
      "Percentage de negative tweets: 15.0%\n"
     ]
    }
   ],
   "source": [
    "print(\"Percentage of positive tweets: {}%\".format(len(pos_tweets)*100/len(trump_df['Tweets'])))\n",
    "print(\"Percentage of neutral tweets: {}%\".format(len(neu_tweets)*100/len(trump_df['Tweets'])))\n",
    "print(\"Percentage de negative tweets: {}%\".format(len(neg_tweets)*100/len(trump_df['Tweets'])))"
   ]
  },
  {
   "cell_type": "markdown",
   "metadata": {},
   "source": [
    "All Credits for this project go to:\n",
    "https://dev.to/rodolfoferro/sentiment-analysis-on-trumpss-tweets-using-python-"
   ]
  },
  {
   "cell_type": "code",
   "execution_count": null,
   "metadata": {
    "collapsed": true
   },
   "outputs": [],
   "source": []
  }
 ],
 "metadata": {
  "kernelspec": {
   "display_name": "Python 3",
   "language": "python",
   "name": "python3"
  },
  "language_info": {
   "codemirror_mode": {
    "name": "ipython",
    "version": 3
   },
   "file_extension": ".py",
   "mimetype": "text/x-python",
   "name": "python",
   "nbconvert_exporter": "python",
   "pygments_lexer": "ipython3",
   "version": "3.6.1"
  }
 },
 "nbformat": 4,
 "nbformat_minor": 2
}
