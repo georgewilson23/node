{
 "cells": [
  {
   "cell_type": "markdown",
   "metadata": {},
   "source": [
    "# Authentication for API Access"
   ]
  },
  {
   "cell_type": "code",
   "execution_count": 2,
   "metadata": {},
   "outputs": [
    {
     "name": "stdout",
     "output_type": "stream",
     "text": [
      "Consumer Key: 7f8rFv1pfhOG9SDMjUasfJNUj\n",
      "Consumer Secret: WNVyxyFRlbCv2a5LpOPCDuzcPfjrgLJs00kHwnfiqIlemu930C\n",
      "Access Token: 870293144012771328-mxREeZgDLTbKDaQIgtejD8cQVRziOEv\n",
      "Access Token Secret: fX5hZ5YFZUwM7ZYfQ3fM4bZKrKsrPUcTn9TKjVD2IZ34K\n"
     ]
    }
   ],
   "source": [
    "import pandas as pd\n",
    "import tweepy\n",
    "\n",
    "consumer_key = input(\"Consumer Key: \")\n",
    "consumer_secret = input(\"Consumer Secret: \")\n",
    "access_token = input(\"Access Token: \")\n",
    "access_token_secret = input(\"Access Token Secret: \")\n",
    "\n",
    "auth = tweepy.OAuthHandler(consumer_key, consumer_secret)\n",
    "auth.set_access_token(access_token, access_token_secret)\n",
    "\n",
    "api = tweepy.API(auth)"
   ]
  },
  {
   "cell_type": "markdown",
   "metadata": {},
   "source": [
    "# Scraping Function\n",
    "\n",
    "This function will scrape the most recent ~3000 tweets from the specified user's account and return a dataframe with the text, number of favorites, and number of retweets for each tweet."
   ]
  },
  {
   "cell_type": "code",
   "execution_count": 20,
   "metadata": {
    "collapsed": true
   },
   "outputs": [],
   "source": [
    "def tweets_favorites_retweets(username):\n",
    "    # get tweet text\n",
    "    \n",
    "    # Lists to store scraped data before putting it into the DataFrame\n",
    "    tweets = []\n",
    "    favorites = []\n",
    "    retweets = []\n",
    "\n",
    "    # Scrape first tweets to initialize the while loop\n",
    "    # Grab the first set of tweets and store them new_tweets\n",
    "    new_tweets = api.user_timeline(screen_name = username, count = 500, include_rts = False)\n",
    "    \n",
    "    # Store the information for each tweet and decriment the oldest tweet id\n",
    "    for tweet in new_tweets:\n",
    "        tweets.append(tweet.text)\n",
    "        favorites.append(tweet.favorite_count)\n",
    "        retweets.append(tweet.retweet_count)\n",
    "        oldest = tweet.id - 1\n",
    "    \n",
    "    # Keep scraping as long as there are new tweets to scrape\n",
    "    while len(new_tweets) > 0:\n",
    "        # Grab the next set of tweets starting at the oldest tweet id\n",
    "        new_tweets = api.user_timeline(screen_name = username, count = 500, max_id = oldest, include_rts = False)\n",
    "\n",
    "        # Store the information for each tweet and decriment the oldest tweet id\n",
    "        for tweet in new_tweets:\n",
    "            tweets.append(tweet.text)\n",
    "            favorites.append(tweet.favorite_count)\n",
    "            retweets.append(tweet.retweet_count)\n",
    "            oldest = tweet.id - 1\n",
    "    \n",
    "    \n",
    "    # put into data frame\n",
    "    twitter_df = pd.DataFrame({\"tweets\": tweets, \"favorites\": favorites, \"retweets\": retweets})\n",
    "    \n",
    "\n",
    "    # export to csv\n",
    "    twitter_df.to_csv(username + \".csv\", sep = ',', encoding = \"utf-8\")"
   ]
  },
  {
   "cell_type": "markdown",
   "metadata": {},
   "source": [
    "# Function Call"
   ]
  },
  {
   "cell_type": "code",
   "execution_count": 21,
   "metadata": {},
   "outputs": [
    {
     "name": "stdout",
     "output_type": "stream",
     "text": [
      "Username of Account to Scrape from: realDonaldTrump\n"
     ]
    }
   ],
   "source": [
    "account = input(\"Username of Account to Scrape from: \")\n",
    "\n",
    "tweets_favorites_retweets(account)"
   ]
  }
 ],
 "metadata": {
  "kernelspec": {
   "display_name": "Python 3",
   "language": "python",
   "name": "python3"
  },
  "language_info": {
   "codemirror_mode": {
    "name": "ipython",
    "version": 3
   },
   "file_extension": ".py",
   "mimetype": "text/x-python",
   "name": "python",
   "nbconvert_exporter": "python",
   "pygments_lexer": "ipython3",
   "version": "3.6.1"
  }
 },
 "nbformat": 4,
 "nbformat_minor": 2
}
