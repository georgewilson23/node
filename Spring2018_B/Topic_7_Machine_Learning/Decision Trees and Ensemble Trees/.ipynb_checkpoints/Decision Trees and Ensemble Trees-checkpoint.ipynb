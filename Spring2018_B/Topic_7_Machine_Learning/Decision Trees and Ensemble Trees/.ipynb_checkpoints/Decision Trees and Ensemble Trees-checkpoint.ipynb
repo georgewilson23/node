{
 "cells": [
  {
   "cell_type": "markdown",
   "metadata": {},
   "source": [
    "# Desion Tree Classifiers"
   ]
  },
  {
   "cell_type": "code",
   "execution_count": null,
   "metadata": {},
   "outputs": [],
   "source": [
    "import numpy as no\n",
    "import pandas as pd\n",
    "import sklearn\n",
    "from sklearn import tree\n",
    "from sklearn.tree import DecisionTreeClassifier\n",
    "from sklearn.model_selection import train_test_split\n",
    "from sklearn.ensemble import BaggingClassifier, RandomForestClassifier\n",
    "from sklearn.model_selection import cross_val_score"
   ]
  },
  {
   "cell_type": "code",
   "execution_count": null,
   "metadata": {},
   "outputs": [],
   "source": [
    "df = pd.read_csv('iris.csv')\n",
    "df.head()"
   ]
  },
  {
   "cell_type": "markdown",
   "metadata": {},
   "source": [
    "### Train/Test Sets"
   ]
  },
  {
   "cell_type": "code",
   "execution_count": null,
   "metadata": {
    "collapsed": true
   },
   "outputs": [],
   "source": [
    "train, test = train_test_split(df, test_size = 0.2)\n",
    "\n",
    "# train sets\n",
    "train_x = train.drop('Name', 1)\n",
    "train_y = train['Name']\n",
    "\n",
    "# test sets\n",
    "test_x = test.drop('Name', 1)\n",
    "test_y = test['Name']"
   ]
  },
  {
   "cell_type": "markdown",
   "metadata": {},
   "source": [
    "# Decision Tree"
   ]
  },
  {
   "cell_type": "code",
   "execution_count": null,
   "metadata": {},
   "outputs": [],
   "source": [
    "# model\n",
    "decision_tree = DecisionTreeClassifier(criterion = \"entropy\")\n",
    "\n",
    "# train\n",
    "decision_tree.fit(train_x, train_y)\n",
    "clf = tree.fit(train_x, train_y) #for viz later\n",
    "# predict\n",
    "decision_tree_predictions = decision_tree.predict(test_x)"
   ]
  },
  {
   "cell_type": "code",
   "execution_count": null,
   "metadata": {},
   "outputs": [],
   "source": [
    "cross_val_score(decision_tree, df.drop('Name', 1), df['Name'], cv = 5)"
   ]
  },
  {
   "cell_type": "markdown",
   "metadata": {},
   "source": [
    "### Feature Importances\n",
    "\n",
    "The \".feature\\_importances\\_\" attribute of the DecisionTreeClassifier() object gives us the information gain of each attribute as a measure of importance."
   ]
  },
  {
   "cell_type": "code",
   "execution_count": null,
   "metadata": {},
   "outputs": [],
   "source": [
    "# I put the attribute names and their respective information gains in a data frame for readability.\n",
    "pd.DataFrame({'Gain': decision_tree.feature_importances_}, index = train_x.columns).sort_values('Gain', ascending = False)"
   ]
  },
  {
   "cell_type": "markdown",
   "metadata": {},
   "source": [
    "### Confusion Matrix\n",
    "\n",
    "A confusion matrix is a good way to check the accuracy of your model and to see in what ways your model may be predicting incorrectly.\n",
    "\n",
    "We do this ising the Pandas crosstab() function…"
   ]
  },
  {
   "cell_type": "code",
   "execution_count": null,
   "metadata": {},
   "outputs": [],
   "source": [
    "pd.crosstab(test_y, tree_predictions, rownames=['Actual'], colnames = ['Predicted:'], margins = True)"
   ]
  },
  {
   "cell_type": "code",
   "execution_count": null,
   "metadata": {
    "collapsed": true
   },
   "outputs": [],
   "source": [
    "# import graphviz \n",
    "# dot_data = tree.export_graphviz(clf, out_file=None, \n",
    "#                          feature_names=train_x.columns,  \n",
    "#                          class_names=\"Species\",  \n",
    "#                          filled=True, rounded=True,  \n",
    "#                          special_characters=True)  \n",
    "# graph = graphviz.Source(dot_data)  \n",
    "# graph "
   ]
  },
  {
   "cell_type": "markdown",
   "metadata": {},
   "source": [
    "# Bagging\n",
    "\n",
    "![](bagging.png)"
   ]
  },
  {
   "cell_type": "code",
   "execution_count": null,
   "metadata": {},
   "outputs": [],
   "source": [
    "# model\n",
    "bag = BaggingClassifier()\n",
    "\n",
    "# train\n",
    "bag.fit(train_x, train_y)\n",
    "\n",
    "# predict\n",
    "bag_predictions = bag.predict(test_x)\n",
    "\n",
    "# confusion matrix\n",
    "pd.crosstab(test_y, bag_predictions, rownames=['Actual'], colnames = ['Predicted:'], margins = True)"
   ]
  },
  {
   "cell_type": "markdown",
   "metadata": {},
   "source": [
    "# Random Forest"
   ]
  },
  {
   "cell_type": "code",
   "execution_count": null,
   "metadata": {},
   "outputs": [],
   "source": [
    "# model\n",
    "forest = RandomForestClassifier(criterion = 'entropy')\n",
    "\n",
    "# train\n",
    "forest.fit(train_x, train_y)\n",
    "\n",
    "# predict\n",
    "forest_predictions = forest.predict(test_x)\n",
    "\n",
    "# feature importances\n",
    "print(pd.DataFrame({'Importance': forest.feature_importances_}, index = train_x.columns).sort_values('Importance', ascending = False))\n",
    "\n",
    "# confusion matrix\n",
    "pd.crosstab(test_y, forest_predictions, rownames=['Actual'], colnames = ['Predicted:'], margins = True)"
   ]
  },
  {
   "cell_type": "markdown",
   "metadata": {},
   "source": [
    "# Out of Bag Error"
   ]
  },
  {
   "cell_type": "code",
   "execution_count": null,
   "metadata": {},
   "outputs": [],
   "source": [
    "# model\n",
    "oob_forest = RandomForestClassifier(criterion = 'entropy', oob_score = True, n_estimators = 500)\n",
    "\n",
    "# train\n",
    "oob_forest.fit(df.drop('Name', 1), df['Name'])\n",
    "\n",
    "# Out of bag score\n",
    "oob_forest.oob_score_"
   ]
  },
  {
   "cell_type": "markdown",
   "metadata": {},
   "source": [
    "# On your own"
   ]
  },
  {
   "cell_type": "code",
   "execution_count": null,
   "metadata": {},
   "outputs": [],
   "source": [
    "dataset_url = 'http://mlr.cs.umass.edu/ml/machine-learning-databases/wine-quality/winequality-red.csv'\n",
    "data = pd.read_csv(dataset_url, sep=';')"
   ]
  },
  {
   "cell_type": "markdown",
   "metadata": {},
   "source": [
    "Recode the quality column (what we want to predict) into a classification variable (good, average, bad)"
   ]
  },
  {
   "cell_type": "code",
   "execution_count": null,
   "metadata": {
    "collapsed": true
   },
   "outputs": [],
   "source": []
  },
  {
   "cell_type": "markdown",
   "metadata": {},
   "source": [
    "Create a decision tree, bagging classifier, and random forest to predict quality. Compare results."
   ]
  },
  {
   "cell_type": "code",
   "execution_count": null,
   "metadata": {
    "collapsed": true
   },
   "outputs": [],
   "source": []
  }
 ],
 "metadata": {
  "kernelspec": {
   "display_name": "Python 3",
   "language": "python",
   "name": "python3"
  },
  "language_info": {
   "codemirror_mode": {
    "name": "ipython",
    "version": 3
   },
   "file_extension": ".py",
   "mimetype": "text/x-python",
   "name": "python",
   "nbconvert_exporter": "python",
   "pygments_lexer": "ipython3",
   "version": "3.6.1"
  }
 },
 "nbformat": 4,
 "nbformat_minor": 2
}
